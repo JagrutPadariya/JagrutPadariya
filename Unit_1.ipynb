{
 "cells": [
  {
   "cell_type": "markdown",
   "id": "b297917b",
   "metadata": {},
   "source": [
    "# Python Fundamentals"
   ]
  },
  {
   "cell_type": "code",
   "execution_count": 3,
   "id": "52c722b7",
   "metadata": {},
   "outputs": [
    {
     "name": "stdout",
     "output_type": "stream",
     "text": [
      "Jagrut\n"
     ]
    }
   ],
   "source": [
    "# This is my first python program\n",
    "print(\"Jagrut\")"
   ]
  },
  {
   "cell_type": "markdown",
   "id": "e47d3a68",
   "metadata": {},
   "source": [
    "Print statement is used to print anything stored in it."
   ]
  },
  {
   "cell_type": "code",
   "execution_count": 4,
   "id": "4abefd9b",
   "metadata": {},
   "outputs": [
    {
     "name": "stdout",
     "output_type": "stream",
     "text": [
      "Requirement already satisfied: NumPy in c:\\users\\jagru\\anaconda3\\lib\\site-packages (1.21.5)\n"
     ]
    }
   ],
   "source": [
    "# How to install library in python using pip command\n",
    "# pip - Package installer\n",
    "!pip install NumPy"
   ]
  },
  {
   "cell_type": "code",
   "execution_count": 5,
   "id": "43b9b488",
   "metadata": {},
   "outputs": [
    {
     "name": "stdout",
     "output_type": "stream",
     "text": [
      "Collecting package metadata (current_repodata.json): ...working... done\n",
      "Solving environment: ...working... done\n",
      "\n",
      "# All requested packages already installed.\n",
      "\n",
      "Retrieving notices: ...working... done\n"
     ]
    }
   ],
   "source": [
    "!conda install pandas"
   ]
  },
  {
   "cell_type": "code",
   "execution_count": 6,
   "id": "ef312d6a",
   "metadata": {},
   "outputs": [
    {
     "name": "stdout",
     "output_type": "stream",
     "text": [
      "Package                       Version\n",
      "----------------------------- --------------------\n",
      "aiohttp                       3.8.1\n",
      "aiosignal                     1.2.0\n",
      "alabaster                     0.7.12\n",
      "anaconda-client               1.9.0\n",
      "anaconda-navigator            2.3.0\n",
      "anaconda-project              0.10.2\n",
      "anyio                         3.5.0\n",
      "appdirs                       1.4.4\n",
      "argon2-cffi                   21.3.0\n",
      "argon2-cffi-bindings          21.2.0\n",
      "arrow                         1.2.2\n",
      "astroid                       2.6.6\n",
      "astropy                       5.0.4\n",
      "asttokens                     2.0.5\n",
      "async-timeout                 4.0.1\n",
      "atomicwrites                  1.4.0\n",
      "attrs                         21.4.0\n",
      "Automat                       20.2.0\n",
      "autopep8                      1.6.0\n",
      "Babel                         2.9.1\n",
      "backcall                      0.2.0\n",
      "backports.functools-lru-cache 1.6.4\n",
      "backports.tempfile            1.0\n",
      "backports.weakref             1.0.post1\n",
      "bcrypt                        3.2.0\n",
      "beautifulsoup4                4.11.1\n",
      "binaryornot                   0.4.4\n",
      "bitarray                      2.4.1\n",
      "bkcharts                      0.2\n",
      "black                         19.10b0\n",
      "bleach                        4.1.0\n",
      "bokeh                         2.4.2\n",
      "boto3                         1.21.32\n",
      "botocore                      1.24.32\n",
      "Bottleneck                    1.3.4\n",
      "brotlipy                      0.7.0\n",
      "cachetools                    4.2.2\n",
      "certifi                       2021.10.8\n",
      "cffi                          1.15.0\n",
      "chardet                       4.0.0\n",
      "charset-normalizer            2.0.4\n",
      "click                         8.0.4\n",
      "cloudpickle                   2.0.0\n",
      "clyent                        1.2.2\n",
      "colorama                      0.4.4\n",
      "colorcet                      2.0.6\n",
      "comtypes                      1.1.10\n",
      "conda                         4.14.0\n",
      "conda-build                   3.21.8\n",
      "conda-content-trust           0+unknown\n",
      "conda-pack                    0.6.0\n",
      "conda-package-handling        1.8.1\n",
      "conda-repo-cli                1.0.4\n",
      "conda-token                   0.3.0\n",
      "conda-verify                  3.4.2\n",
      "constantly                    15.1.0\n",
      "cookiecutter                  1.7.3\n",
      "cryptography                  3.4.8\n",
      "cssselect                     1.1.0\n",
      "cycler                        0.11.0\n",
      "Cython                        0.29.28\n",
      "cytoolz                       0.11.0\n",
      "daal4py                       2021.5.0\n",
      "dask                          2022.2.1\n",
      "datashader                    0.13.0\n",
      "datashape                     0.5.4\n",
      "debugpy                       1.5.1\n",
      "decorator                     5.1.1\n",
      "defusedxml                    0.7.1\n",
      "diff-match-patch              20200713\n",
      "distributed                   2022.2.1\n",
      "docutils                      0.17.1\n",
      "entrypoints                   0.4\n",
      "et-xmlfile                    1.1.0\n",
      "executing                     0.8.3\n",
      "fastjsonschema                2.15.1\n",
      "filelock                      3.6.0\n",
      "flake8                        3.9.2\n",
      "Flask                         1.1.2\n",
      "fonttools                     4.25.0\n",
      "frozenlist                    1.2.0\n",
      "fsspec                        2022.2.0\n",
      "future                        0.18.2\n",
      "gensim                        4.1.2\n",
      "glob2                         0.7\n",
      "google-api-core               1.25.1\n",
      "google-auth                   1.33.0\n",
      "google-cloud-core             1.7.1\n",
      "google-cloud-storage          1.31.0\n",
      "google-crc32c                 1.1.2\n",
      "google-resumable-media        1.3.1\n",
      "googleapis-common-protos      1.53.0\n",
      "greenlet                      1.1.1\n",
      "grpcio                        1.42.0\n",
      "h5py                          3.6.0\n",
      "HeapDict                      1.0.1\n",
      "holoviews                     1.14.8\n",
      "hvplot                        0.7.3\n",
      "hyperlink                     21.0.0\n",
      "idna                          3.3\n",
      "imagecodecs                   2021.8.26\n",
      "imageio                       2.9.0\n",
      "imagesize                     1.3.0\n",
      "importlib-metadata            4.11.3\n",
      "incremental                   21.3.0\n",
      "inflection                    0.5.1\n",
      "iniconfig                     1.1.1\n",
      "intake                        0.6.5\n",
      "intervaltree                  3.1.0\n",
      "ipykernel                     6.9.1\n",
      "ipython                       8.2.0\n",
      "ipython-genutils              0.2.0\n",
      "ipywidgets                    7.6.5\n",
      "isort                         5.9.3\n",
      "itemadapter                   0.3.0\n",
      "itemloaders                   1.0.4\n",
      "itsdangerous                  2.0.1\n",
      "jdcal                         1.4.1\n",
      "jedi                          0.18.1\n",
      "Jinja2                        2.11.3\n",
      "jinja2-time                   0.2.0\n",
      "jmespath                      0.10.0\n",
      "joblib                        1.1.0\n",
      "json5                         0.9.6\n",
      "jsonschema                    4.4.0\n",
      "jupyter                       1.0.0\n",
      "jupyter-client                6.1.12\n",
      "jupyter-console               6.4.0\n",
      "jupyter-core                  4.9.2\n",
      "jupyter-server                1.13.5\n",
      "jupyterlab                    3.3.2\n",
      "jupyterlab-pygments           0.1.2\n",
      "jupyterlab-server             2.10.3\n",
      "jupyterlab-widgets            1.0.0\n",
      "keyring                       23.4.0\n",
      "kiwisolver                    1.3.2\n",
      "lazy-object-proxy             1.6.0\n",
      "libarchive-c                  2.9\n",
      "llvmlite                      0.38.0\n",
      "locket                        0.2.1\n",
      "lxml                          4.8.0\n",
      "Markdown                      3.3.4\n",
      "MarkupSafe                    2.0.1\n",
      "matplotlib                    3.5.1\n",
      "matplotlib-inline             0.1.2\n",
      "mccabe                        0.6.1\n",
      "menuinst                      1.4.18\n",
      "mistune                       0.8.4\n",
      "mkl-fft                       1.3.1\n",
      "mkl-random                    1.2.2\n",
      "mkl-service                   2.4.0\n",
      "mock                          4.0.3\n",
      "mpmath                        1.2.1\n",
      "msgpack                       1.0.2\n",
      "multidict                     5.1.0\n",
      "multipledispatch              0.6.0\n",
      "munkres                       1.1.4\n",
      "mypy-extensions               0.4.3\n",
      "navigator-updater             0.2.1\n",
      "nbclassic                     0.3.5\n",
      "nbclient                      0.5.13\n",
      "nbconvert                     6.4.4\n",
      "nbformat                      5.3.0\n",
      "nest-asyncio                  1.5.5\n",
      "networkx                      2.7.1\n",
      "nltk                          3.7\n",
      "nose                          1.3.7\n",
      "notebook                      6.4.8\n",
      "numba                         0.55.1\n",
      "numexpr                       2.8.1\n",
      "numpy                         1.21.5\n",
      "numpydoc                      1.2\n",
      "olefile                       0.46\n",
      "openpyxl                      3.0.9\n",
      "packaging                     21.3\n",
      "pandas                        1.4.2\n",
      "pandocfilters                 1.5.0\n",
      "panel                         0.13.0\n",
      "param                         1.12.0\n",
      "paramiko                      2.8.1\n",
      "parsel                        1.6.0\n",
      "parso                         0.8.3\n",
      "partd                         1.2.0\n",
      "pathspec                      0.7.0\n",
      "patsy                         0.5.2\n",
      "pep8                          1.7.1\n",
      "pexpect                       4.8.0\n",
      "pickleshare                   0.7.5\n",
      "Pillow                        9.0.1\n",
      "pip                           21.2.4\n",
      "pkginfo                       1.8.2\n",
      "plotly                        5.6.0\n",
      "pluggy                        1.0.0\n",
      "poyo                          0.5.0\n",
      "prometheus-client             0.13.1\n",
      "prompt-toolkit                3.0.20\n",
      "Protego                       0.1.16\n",
      "protobuf                      3.19.1\n",
      "psutil                        5.8.0\n",
      "ptyprocess                    0.7.0\n",
      "pure-eval                     0.2.2\n",
      "py                            1.11.0\n",
      "Note: you may need to restart the kernel to use updated packages.pyasn1                        0.4.8\n",
      "pyasn1-modules                0.2.8\n",
      "pycodestyle                   2.7.0\n",
      "pycosat                       0.6.3\n",
      "pycparser                     2.21\n",
      "pyct                          0.4.6\n",
      "pycurl                        7.44.1\n",
      "PyDispatcher                  2.0.5\n",
      "pydocstyle                    6.1.1\n",
      "pyerfa                        2.0.0\n",
      "pyflakes                      2.3.1\n",
      "Pygments                      2.11.2\n",
      "PyHamcrest                    2.0.2\n",
      "PyJWT                         2.1.0\n",
      "pylint                        2.9.6\n",
      "pyls-spyder                   0.4.0\n",
      "PyNaCl                        1.4.0\n",
      "pyodbc                        4.0.32\n",
      "pyOpenSSL                     21.0.0\n",
      "pyparsing                     3.0.4\n",
      "pyreadline                    2.1\n",
      "pyrsistent                    0.18.0\n",
      "PySocks                       1.7.1\n",
      "pytest                        7.1.1\n",
      "python-dateutil               2.8.2\n",
      "python-lsp-black              1.0.0\n",
      "python-lsp-jsonrpc            1.0.0\n",
      "python-lsp-server             1.2.4\n",
      "python-slugify                5.0.2\n",
      "python-snappy                 0.6.0\n",
      "pytz                          2021.3\n",
      "pyviz-comms                   2.0.2\n",
      "PyWavelets                    1.3.0\n",
      "pywin32                       302\n",
      "pywin32-ctypes                0.2.0\n",
      "pywinpty                      2.0.2\n",
      "PyYAML                        6.0\n",
      "pyzmq                         22.3.0\n",
      "QDarkStyle                    3.0.2\n",
      "qstylizer                     0.1.10\n",
      "QtAwesome                     1.0.3\n",
      "qtconsole                     5.3.0\n",
      "QtPy                          2.0.1\n",
      "queuelib                      1.5.0\n",
      "regex                         2022.3.15\n",
      "requests                      2.27.1\n",
      "requests-file                 1.5.1\n",
      "rope                          0.22.0\n",
      "rsa                           4.7.2\n",
      "Rtree                         0.9.7\n",
      "ruamel-yaml-conda             0.15.100\n",
      "s3transfer                    0.5.0\n",
      "scikit-image                  0.19.2\n",
      "scikit-learn                  1.0.2\n",
      "scikit-learn-intelex          2021.20220215.102710\n",
      "scipy                         1.7.3\n",
      "Scrapy                        2.6.1\n",
      "seaborn                       0.11.2\n",
      "Send2Trash                    1.8.0\n",
      "service-identity              18.1.0\n",
      "setuptools                    61.2.0\n",
      "sip                           4.19.13\n",
      "six                           1.16.0\n",
      "smart-open                    5.1.0\n",
      "sniffio                       1.2.0\n",
      "\n",
      "snowballstemmer               2.2.0\n",
      "sortedcollections             2.1.0\n",
      "sortedcontainers              2.4.0\n",
      "soupsieve                     2.3.1\n",
      "Sphinx                        4.4.0\n"
     ]
    },
    {
     "name": "stdout",
     "output_type": "stream",
     "text": [
      "sphinxcontrib-applehelp       1.0.2\n",
      "sphinxcontrib-devhelp         1.0.2\n",
      "sphinxcontrib-htmlhelp        2.0.0\n",
      "sphinxcontrib-jsmath          1.0.1\n",
      "sphinxcontrib-qthelp          1.0.3\n",
      "sphinxcontrib-serializinghtml 1.1.5\n",
      "spyder                        5.1.5\n",
      "spyder-kernels                2.1.3\n",
      "SQLAlchemy                    1.4.32\n",
      "stack-data                    0.2.0\n",
      "statsmodels                   0.13.2\n",
      "sympy                         1.10.1\n",
      "tables                        3.6.1\n",
      "tabulate                      0.8.9\n",
      "TBB                           0.2\n",
      "tblib                         1.7.0\n",
      "tenacity                      8.0.1\n",
      "terminado                     0.13.1\n",
      "testpath                      0.5.0\n",
      "text-unidecode                1.3\n",
      "textdistance                  4.2.1\n",
      "threadpoolctl                 2.2.0\n",
      "three-merge                   0.1.1\n",
      "tifffile                      2021.7.2\n",
      "tinycss                       0.4\n",
      "tldextract                    3.2.0\n",
      "toml                          0.10.2\n",
      "tomli                         1.2.2\n",
      "toolz                         0.11.2\n",
      "tornado                       6.1\n",
      "tqdm                          4.64.0\n",
      "traitlets                     5.1.1\n",
      "Twisted                       22.2.0\n",
      "twisted-iocpsupport           1.0.2\n",
      "typed-ast                     1.4.3\n",
      "typing_extensions             4.1.1\n",
      "ujson                         5.1.0\n",
      "Unidecode                     1.2.0\n",
      "urllib3                       1.26.9\n",
      "w3lib                         1.21.0\n",
      "watchdog                      2.1.6\n",
      "wcwidth                       0.2.5\n",
      "webencodings                  0.5.1\n",
      "websocket-client              0.58.0\n",
      "Werkzeug                      2.0.3\n",
      "wheel                         0.37.1\n",
      "widgetsnbextension            3.5.2\n",
      "win-inet-pton                 1.1.0\n",
      "win-unicode-console           0.5\n",
      "wincertstore                  0.2\n",
      "wrapt                         1.12.1\n",
      "xarray                        0.20.1\n",
      "xlrd                          2.0.1\n",
      "XlsxWriter                    3.0.3\n",
      "xlwings                       0.24.9\n",
      "yapf                          0.31.0\n",
      "yarl                          1.6.3\n",
      "zict                          2.0.0\n",
      "zipp                          3.7.0\n",
      "zope.interface                5.4.0\n"
     ]
    }
   ],
   "source": [
    "pip list"
   ]
  },
  {
   "cell_type": "code",
   "execution_count": 7,
   "id": "6f0a3ffa",
   "metadata": {},
   "outputs": [
    {
     "name": "stdout",
     "output_type": "stream",
     "text": [
      "10,20,30\n"
     ]
    }
   ],
   "source": [
    "a=10\n",
    "b=20\n",
    "c=30\n",
    "\n",
    "print(a,b,c, sep=',')"
   ]
  },
  {
   "cell_type": "code",
   "execution_count": 8,
   "id": "1124cc2d",
   "metadata": {},
   "outputs": [
    {
     "name": "stdout",
     "output_type": "stream",
     "text": [
      "45\n",
      "5.6\n",
      "String\n",
      "True\n"
     ]
    }
   ],
   "source": [
    "var_1=45\n",
    "var_2=5.6\n",
    "var_3='String'\n",
    "var_4=True\n",
    "\n",
    "print(var_1,var_2,var_3,var_4, sep='\\n')"
   ]
  },
  {
   "cell_type": "code",
   "execution_count": 9,
   "id": "208f4381",
   "metadata": {},
   "outputs": [
    {
     "name": "stdout",
     "output_type": "stream",
     "text": [
      "<class 'int'>\n"
     ]
    }
   ],
   "source": [
    "print(type(var_1))"
   ]
  },
  {
   "cell_type": "code",
   "execution_count": 10,
   "id": "6607975c",
   "metadata": {},
   "outputs": [
    {
     "name": "stdout",
     "output_type": "stream",
     "text": [
      "<class 'float'>\n"
     ]
    }
   ],
   "source": [
    "print(type(var_2))"
   ]
  },
  {
   "cell_type": "code",
   "execution_count": 11,
   "id": "aba90412",
   "metadata": {},
   "outputs": [
    {
     "name": "stdout",
     "output_type": "stream",
     "text": [
      "<class 'str'>\n"
     ]
    }
   ],
   "source": [
    "print(type(var_3))"
   ]
  },
  {
   "cell_type": "code",
   "execution_count": 12,
   "id": "e6c5aaf9",
   "metadata": {},
   "outputs": [
    {
     "name": "stdout",
     "output_type": "stream",
     "text": [
      "<class 'bool'>\n"
     ]
    }
   ],
   "source": [
    "print(type(var_4))"
   ]
  },
  {
   "cell_type": "code",
   "execution_count": 13,
   "id": "078bd47e",
   "metadata": {},
   "outputs": [
    {
     "name": "stdout",
     "output_type": "stream",
     "text": [
      "28\n"
     ]
    }
   ],
   "source": [
    "print(var_1. __sizeof__())"
   ]
  },
  {
   "cell_type": "code",
   "execution_count": 14,
   "id": "d49a6461",
   "metadata": {},
   "outputs": [
    {
     "name": "stdout",
     "output_type": "stream",
     "text": [
      "24\n"
     ]
    }
   ],
   "source": [
    "print(var_2. __sizeof__())"
   ]
  },
  {
   "cell_type": "code",
   "execution_count": 15,
   "id": "6036a84c",
   "metadata": {},
   "outputs": [
    {
     "name": "stdout",
     "output_type": "stream",
     "text": [
      "55\n"
     ]
    }
   ],
   "source": [
    "print(var_3. __sizeof__())"
   ]
  },
  {
   "cell_type": "code",
   "execution_count": 16,
   "id": "c0dbc2a0",
   "metadata": {},
   "outputs": [
    {
     "name": "stdout",
     "output_type": "stream",
     "text": [
      "28\n"
     ]
    }
   ],
   "source": [
    "print(var_4. __sizeof__())"
   ]
  },
  {
   "cell_type": "code",
   "execution_count": 17,
   "id": "986a0bb3",
   "metadata": {},
   "outputs": [
    {
     "name": "stdout",
     "output_type": "stream",
     "text": [
      "20,30,40,50\n"
     ]
    }
   ],
   "source": [
    "a,b,c,d = 20,30,40,50\n",
    "\n",
    "print(a,b,c,d, sep=',')"
   ]
  },
  {
   "cell_type": "code",
   "execution_count": 18,
   "id": "982cd82e",
   "metadata": {},
   "outputs": [
    {
     "data": {
      "text/plain": [
       "5"
      ]
     },
     "execution_count": 18,
     "metadata": {},
     "output_type": "execute_result"
    }
   ],
   "source": [
    "x=y=z=1\n",
    "y=z=w=5\n",
    "w=y=10\n",
    "x=y-z\n",
    "\n",
    "x"
   ]
  },
  {
   "cell_type": "code",
   "execution_count": 19,
   "id": "11c604cc",
   "metadata": {},
   "outputs": [
    {
     "ename": "NameError",
     "evalue": "name 'x' is not defined",
     "output_type": "error",
     "traceback": [
      "\u001b[1;31m---------------------------------------------------------------------------\u001b[0m",
      "\u001b[1;31mNameError\u001b[0m                                 Traceback (most recent call last)",
      "Input \u001b[1;32mIn [19]\u001b[0m, in \u001b[0;36m<cell line: 3>\u001b[1;34m()\u001b[0m\n\u001b[0;32m      1\u001b[0m \u001b[38;5;28;01mdel\u001b[39;00m x\n\u001b[1;32m----> 3\u001b[0m \u001b[43mx\u001b[49m\n",
      "\u001b[1;31mNameError\u001b[0m: name 'x' is not defined"
     ]
    }
   ],
   "source": [
    "del x\n",
    "\n",
    "x"
   ]
  },
  {
   "cell_type": "code",
   "execution_count": null,
   "id": "e3be780c",
   "metadata": {},
   "outputs": [],
   "source": [
    "var = var_1+var_2\n",
    "var"
   ]
  },
  {
   "cell_type": "code",
   "execution_count": null,
   "id": "5bfc3a2e",
   "metadata": {},
   "outputs": [],
   "source": [
    "#define function in python\n",
    "\n",
    "def add(x,y):\n",
    "    return x+y\n",
    "a=10\n",
    "b=20\n",
    "\n",
    "add(a,b)"
   ]
  },
  {
   "cell_type": "markdown",
   "id": "38a313de",
   "metadata": {},
   "source": [
    "# String"
   ]
  },
  {
   "cell_type": "code",
   "execution_count": 20,
   "id": "7a95feb3",
   "metadata": {},
   "outputs": [
    {
     "name": "stdout",
     "output_type": "stream",
     "text": [
      "Sigma University\n"
     ]
    }
   ],
   "source": [
    "str1=\"Sigma\"\n",
    "str2=\"University\"\n",
    "\n",
    "print(str1,str2)"
   ]
  },
  {
   "cell_type": "code",
   "execution_count": 21,
   "id": "62504a79",
   "metadata": {},
   "outputs": [
    {
     "name": "stdout",
     "output_type": "stream",
     "text": [
      "<class 'str'>\n"
     ]
    }
   ],
   "source": [
    "print(type(str1))"
   ]
  },
  {
   "cell_type": "code",
   "execution_count": 22,
   "id": "1c0ef762",
   "metadata": {},
   "outputs": [
    {
     "name": "stdout",
     "output_type": "stream",
     "text": [
      "<class 'str'>\n"
     ]
    }
   ],
   "source": [
    "print(type(str2))"
   ]
  },
  {
   "cell_type": "code",
   "execution_count": 23,
   "id": "46ada573",
   "metadata": {},
   "outputs": [
    {
     "name": "stdout",
     "output_type": "stream",
     "text": [
      "54\n"
     ]
    }
   ],
   "source": [
    "print(str1.__sizeof__())"
   ]
  },
  {
   "cell_type": "code",
   "execution_count": 24,
   "id": "f309de4d",
   "metadata": {},
   "outputs": [
    {
     "name": "stdout",
     "output_type": "stream",
     "text": [
      "59\n"
     ]
    }
   ],
   "source": [
    "print(str2.__sizeof__())"
   ]
  },
  {
   "cell_type": "code",
   "execution_count": 25,
   "id": "495a333d",
   "metadata": {},
   "outputs": [
    {
     "data": {
      "text/plain": [
       "'SigmaUniversity'"
      ]
     },
     "execution_count": 25,
     "metadata": {},
     "output_type": "execute_result"
    }
   ],
   "source": [
    "#Concatnation of string\n",
    "str1+str2"
   ]
  },
  {
   "cell_type": "code",
   "execution_count": 26,
   "id": "7c502e9f",
   "metadata": {},
   "outputs": [
    {
     "data": {
      "text/plain": [
       "'SigmaSigmaSigmaSigmaSigma'"
      ]
     },
     "execution_count": 26,
     "metadata": {},
     "output_type": "execute_result"
    }
   ],
   "source": [
    "#Repeatation of Sigma\n",
    "str1*5"
   ]
  },
  {
   "cell_type": "code",
   "execution_count": 27,
   "id": "414658b9",
   "metadata": {},
   "outputs": [
    {
     "data": {
      "text/plain": [
       "'UniversityUniversity'"
      ]
     },
     "execution_count": 27,
     "metadata": {},
     "output_type": "execute_result"
    }
   ],
   "source": [
    "str2*2"
   ]
  },
  {
   "cell_type": "code",
   "execution_count": 28,
   "id": "7da86440",
   "metadata": {},
   "outputs": [
    {
     "name": "stdout",
     "output_type": "stream",
     "text": [
      "University\n",
      "0\n",
      "False\n",
      "uNIVERSITY\n",
      "UNIVERSITY\n",
      "10\n"
     ]
    }
   ],
   "source": [
    "print(str2.capitalize())\n",
    "print(str2.find('U'))\n",
    "print(str2.isupper())\n",
    "print(str2.swapcase())\n",
    "print(str2.upper())\n",
    "print(len(str2))"
   ]
  },
  {
   "cell_type": "markdown",
   "id": "d1db2ead",
   "metadata": {},
   "source": [
    "Positive    0   1   2   3   4   5   6   7   8   9  Slice f F\n",
    "Negetive   -10 -9  -8  -7  -6  -5  -4  -3  -2  -1  Slice f R\n",
    "            U   N   I   V   E   R   S   I   T   Y"
   ]
  },
  {
   "cell_type": "code",
   "execution_count": 29,
   "id": "2450a203",
   "metadata": {},
   "outputs": [
    {
     "name": "stdout",
     "output_type": "stream",
     "text": [
      "24\n"
     ]
    }
   ],
   "source": [
    "Name = 'Vadodara is my home town'\n",
    "print(len(Name))"
   ]
  },
  {
   "cell_type": "code",
   "execution_count": 30,
   "id": "ee7c5124",
   "metadata": {},
   "outputs": [
    {
     "data": {
      "text/plain": [
       "'adod'"
      ]
     },
     "execution_count": 30,
     "metadata": {},
     "output_type": "execute_result"
    }
   ],
   "source": [
    "# str[START,END,STEP]\n",
    "\n",
    "Name[1:5]"
   ]
  },
  {
   "cell_type": "code",
   "execution_count": 31,
   "id": "fbcd1a64",
   "metadata": {},
   "outputs": [
    {
     "data": {
      "text/plain": [
       "'nive'"
      ]
     },
     "execution_count": 31,
     "metadata": {},
     "output_type": "execute_result"
    }
   ],
   "source": [
    "str2[1:5]"
   ]
  },
  {
   "cell_type": "code",
   "execution_count": 32,
   "id": "a78706f4",
   "metadata": {},
   "outputs": [
    {
     "data": {
      "text/plain": [
       "'niversi'"
      ]
     },
     "execution_count": 32,
     "metadata": {},
     "output_type": "execute_result"
    }
   ],
   "source": [
    "str2[-9:-2]"
   ]
  },
  {
   "cell_type": "code",
   "execution_count": 33,
   "id": "3ef903b8",
   "metadata": {},
   "outputs": [
    {
     "data": {
      "text/plain": [
       "'Unive'"
      ]
     },
     "execution_count": 33,
     "metadata": {},
     "output_type": "execute_result"
    }
   ],
   "source": [
    "str2[:5]"
   ]
  },
  {
   "cell_type": "code",
   "execution_count": 34,
   "id": "855b90a2",
   "metadata": {},
   "outputs": [
    {
     "data": {
      "text/plain": [
       "'niversity'"
      ]
     },
     "execution_count": 34,
     "metadata": {},
     "output_type": "execute_result"
    }
   ],
   "source": [
    "str2[1:]"
   ]
  },
  {
   "cell_type": "code",
   "execution_count": 35,
   "id": "cfc66295",
   "metadata": {},
   "outputs": [
    {
     "data": {
      "text/plain": [
       "'University'"
      ]
     },
     "execution_count": 35,
     "metadata": {},
     "output_type": "execute_result"
    }
   ],
   "source": [
    "str2[:]"
   ]
  },
  {
   "cell_type": "code",
   "execution_count": 36,
   "id": "28e33a52",
   "metadata": {},
   "outputs": [
    {
     "ename": "TypeError",
     "evalue": "'str' object does not support item assignment",
     "output_type": "error",
     "traceback": [
      "\u001b[1;31m---------------------------------------------------------------------------\u001b[0m",
      "\u001b[1;31mTypeError\u001b[0m                                 Traceback (most recent call last)",
      "Input \u001b[1;32mIn [36]\u001b[0m, in \u001b[0;36m<cell line: 1>\u001b[1;34m()\u001b[0m\n\u001b[1;32m----> 1\u001b[0m str2[\u001b[38;5;241m1\u001b[39m]\u001b[38;5;241m=\u001b[39m\u001b[38;5;124m'\u001b[39m\u001b[38;5;124mA\u001b[39m\u001b[38;5;124m'\u001b[39m\n\u001b[0;32m      2\u001b[0m str2\n",
      "\u001b[1;31mTypeError\u001b[0m: 'str' object does not support item assignment"
     ]
    }
   ],
   "source": [
    "str2[1]='A'\n",
    "str2"
   ]
  },
  {
   "cell_type": "code",
   "execution_count": 37,
   "id": "43a69c61",
   "metadata": {},
   "outputs": [
    {
     "ename": "TypeError",
     "evalue": "'str' object doesn't support item deletion",
     "output_type": "error",
     "traceback": [
      "\u001b[1;31m---------------------------------------------------------------------------\u001b[0m",
      "\u001b[1;31mTypeError\u001b[0m                                 Traceback (most recent call last)",
      "Input \u001b[1;32mIn [37]\u001b[0m, in \u001b[0;36m<cell line: 1>\u001b[1;34m()\u001b[0m\n\u001b[1;32m----> 1\u001b[0m \u001b[38;5;28;01mdel\u001b[39;00m str2[\u001b[38;5;241m1\u001b[39m]\n",
      "\u001b[1;31mTypeError\u001b[0m: 'str' object doesn't support item deletion"
     ]
    }
   ],
   "source": [
    "del str2[1]"
   ]
  },
  {
   "cell_type": "code",
   "execution_count": 38,
   "id": "d9267831",
   "metadata": {},
   "outputs": [
    {
     "data": {
      "text/plain": [
       "'Programming Language Python'"
      ]
     },
     "execution_count": 38,
     "metadata": {},
     "output_type": "execute_result"
    }
   ],
   "source": [
    "# String Formating\n",
    "\n",
    "str3 = \"{b} {c} {a}\".format(a='Python', b='Programming', c='Language')\n",
    "str3"
   ]
  },
  {
   "cell_type": "markdown",
   "id": "6a780f9c",
   "metadata": {},
   "source": [
    "# List - Data type"
   ]
  },
  {
   "cell_type": "code",
   "execution_count": 39,
   "id": "0452670c",
   "metadata": {},
   "outputs": [
    {
     "name": "stdout",
     "output_type": "stream",
     "text": [
      "[22, 56.88, 'Gujarat', True, 5000]\n",
      "['kem', 'chho', 77]\n"
     ]
    }
   ],
   "source": [
    "lst1 = [22, 56.88, 'Gujarat', True, 5000]\n",
    "lst2 = [\"kem\", \"chho\", 77]\n",
    "\n",
    "print(lst1, lst2, sep='\\n')"
   ]
  },
  {
   "cell_type": "code",
   "execution_count": 40,
   "id": "95c74953",
   "metadata": {},
   "outputs": [
    {
     "name": "stdout",
     "output_type": "stream",
     "text": [
      "5\n"
     ]
    }
   ],
   "source": [
    "print(len(lst1))"
   ]
  },
  {
   "cell_type": "code",
   "execution_count": 41,
   "id": "573399c1",
   "metadata": {},
   "outputs": [
    {
     "data": {
      "text/plain": [
       "[22, 56.88, 'Gujarat', True, 5000, 'kem', 'chho', 77]"
      ]
     },
     "execution_count": 41,
     "metadata": {},
     "output_type": "execute_result"
    }
   ],
   "source": [
    "# Concatnation of List\n",
    "\n",
    "l = lst1+lst2\n",
    "l"
   ]
  },
  {
   "cell_type": "code",
   "execution_count": 42,
   "id": "ca520234",
   "metadata": {},
   "outputs": [
    {
     "data": {
      "text/plain": [
       "8"
      ]
     },
     "execution_count": 42,
     "metadata": {},
     "output_type": "execute_result"
    }
   ],
   "source": [
    "len(l)"
   ]
  },
  {
   "cell_type": "code",
   "execution_count": 43,
   "id": "ca7ccb6e",
   "metadata": {},
   "outputs": [
    {
     "data": {
      "text/plain": [
       "['kem', 'chho', 77, 'kem', 'chho', 77]"
      ]
     },
     "execution_count": 43,
     "metadata": {},
     "output_type": "execute_result"
    }
   ],
   "source": [
    "# Repeatation of List2\n",
    "\n",
    "lst2*2"
   ]
  },
  {
   "cell_type": "code",
   "execution_count": 44,
   "id": "0c1f8ad5",
   "metadata": {},
   "outputs": [
    {
     "data": {
      "text/plain": [
       "['Gujarat', True]"
      ]
     },
     "execution_count": 44,
     "metadata": {},
     "output_type": "execute_result"
    }
   ],
   "source": [
    "lst1[2:4]"
   ]
  },
  {
   "cell_type": "code",
   "execution_count": 45,
   "id": "86009008",
   "metadata": {},
   "outputs": [
    {
     "data": {
      "text/plain": [
       "[22, 56.88, 'Gujarat', True, 5000]"
      ]
     },
     "execution_count": 45,
     "metadata": {},
     "output_type": "execute_result"
    }
   ],
   "source": [
    "lst1[0:]"
   ]
  },
  {
   "cell_type": "code",
   "execution_count": 46,
   "id": "7588d2e5",
   "metadata": {},
   "outputs": [
    {
     "data": {
      "text/plain": [
       "[5000]"
      ]
     },
     "execution_count": 46,
     "metadata": {},
     "output_type": "execute_result"
    }
   ],
   "source": [
    "lst1[-1:]"
   ]
  },
  {
   "cell_type": "code",
   "execution_count": 47,
   "id": "3e4154ff",
   "metadata": {},
   "outputs": [
    {
     "data": {
      "text/plain": [
       "[56.88, 'Gujarat', True]"
      ]
     },
     "execution_count": 47,
     "metadata": {},
     "output_type": "execute_result"
    }
   ],
   "source": [
    "lst1[-4:-1]"
   ]
  },
  {
   "cell_type": "code",
   "execution_count": 48,
   "id": "f00b6c77",
   "metadata": {},
   "outputs": [
    {
     "name": "stdout",
     "output_type": "stream",
     "text": [
      "[22, 56.88, 'Gujarat', True, 1000]\n"
     ]
    }
   ],
   "source": [
    "lst1[4] = 1000\n",
    "print(lst1)"
   ]
  },
  {
   "cell_type": "code",
   "execution_count": 49,
   "id": "c8b31f8d",
   "metadata": {},
   "outputs": [],
   "source": [
    "del lst1[4]"
   ]
  },
  {
   "cell_type": "code",
   "execution_count": 50,
   "id": "f392e3d5",
   "metadata": {},
   "outputs": [
    {
     "data": {
      "text/plain": [
       "[22, 56.88, 'Gujarat', True]"
      ]
     },
     "execution_count": 50,
     "metadata": {},
     "output_type": "execute_result"
    }
   ],
   "source": [
    "lst1"
   ]
  },
  {
   "cell_type": "code",
   "execution_count": 51,
   "id": "43d87807",
   "metadata": {},
   "outputs": [],
   "source": [
    "lst1.append('Jacky')"
   ]
  },
  {
   "cell_type": "code",
   "execution_count": 52,
   "id": "5b763093",
   "metadata": {},
   "outputs": [
    {
     "data": {
      "text/plain": [
       "[22, 56.88, 'Gujarat', True, 'Jacky']"
      ]
     },
     "execution_count": 52,
     "metadata": {},
     "output_type": "execute_result"
    }
   ],
   "source": [
    "lst1"
   ]
  },
  {
   "cell_type": "code",
   "execution_count": 53,
   "id": "d2db9480",
   "metadata": {},
   "outputs": [
    {
     "data": {
      "text/plain": [
       "[22, 56.88, 'Gujarat', True]"
      ]
     },
     "execution_count": 53,
     "metadata": {},
     "output_type": "execute_result"
    }
   ],
   "source": [
    "lst1.remove('Jacky')\n",
    "lst1"
   ]
  },
  {
   "cell_type": "code",
   "execution_count": 54,
   "id": "29bb7a24",
   "metadata": {},
   "outputs": [
    {
     "data": {
      "text/plain": [
       "[True, 'Gujarat', 56.88, 22]"
      ]
     },
     "execution_count": 54,
     "metadata": {},
     "output_type": "execute_result"
    }
   ],
   "source": [
    "lst1.reverse()\n",
    "lst1"
   ]
  },
  {
   "cell_type": "markdown",
   "id": "c69a7d2f",
   "metadata": {},
   "source": [
    "# Tuple"
   ]
  },
  {
   "cell_type": "code",
   "execution_count": 55,
   "id": "22c57b91",
   "metadata": {},
   "outputs": [
    {
     "name": "stdout",
     "output_type": "stream",
     "text": [
      "('I am', 'Tuple', 55, 78.8, False, 7000)\n",
      "('Hi', 'Jagrut')\n"
     ]
    }
   ],
   "source": [
    "tup1 = ('I am', 'Tuple', 55, 78.8, False, 7000)\n",
    "tup2 = ('Hi', 'Jagrut')\n",
    "\n",
    "print(tup1, tup2, sep='\\n')"
   ]
  },
  {
   "cell_type": "code",
   "execution_count": 56,
   "id": "6233a951",
   "metadata": {},
   "outputs": [
    {
     "name": "stdout",
     "output_type": "stream",
     "text": [
      "<class 'tuple'>\n"
     ]
    }
   ],
   "source": [
    "print(type(tup1))"
   ]
  },
  {
   "cell_type": "code",
   "execution_count": 57,
   "id": "44b740f9",
   "metadata": {},
   "outputs": [
    {
     "name": "stdout",
     "output_type": "stream",
     "text": [
      "<class 'tuple'>\n"
     ]
    }
   ],
   "source": [
    "print(type(tup2))"
   ]
  },
  {
   "cell_type": "code",
   "execution_count": 58,
   "id": "54290c74",
   "metadata": {},
   "outputs": [
    {
     "name": "stdout",
     "output_type": "stream",
     "text": [
      "72\n"
     ]
    }
   ],
   "source": [
    "print(tup1.__sizeof__())"
   ]
  },
  {
   "cell_type": "code",
   "execution_count": 59,
   "id": "7d4c2560",
   "metadata": {},
   "outputs": [
    {
     "name": "stdout",
     "output_type": "stream",
     "text": [
      "40\n"
     ]
    }
   ],
   "source": [
    "print(tup2.__sizeof__())"
   ]
  },
  {
   "cell_type": "code",
   "execution_count": 60,
   "id": "65b5afca",
   "metadata": {},
   "outputs": [
    {
     "name": "stdout",
     "output_type": "stream",
     "text": [
      "6\n"
     ]
    }
   ],
   "source": [
    "print(len(tup1))"
   ]
  },
  {
   "cell_type": "code",
   "execution_count": 61,
   "id": "248498f7",
   "metadata": {},
   "outputs": [
    {
     "name": "stdout",
     "output_type": "stream",
     "text": [
      "2\n"
     ]
    }
   ],
   "source": [
    "print(len(tup2))"
   ]
  },
  {
   "cell_type": "code",
   "execution_count": 62,
   "id": "41462db0",
   "metadata": {},
   "outputs": [
    {
     "data": {
      "text/plain": [
       "('I am', 'Tuple', 55, 78.8, False, 7000, 'Hi', 'Jagrut')"
      ]
     },
     "execution_count": 62,
     "metadata": {},
     "output_type": "execute_result"
    }
   ],
   "source": [
    "tup = tup1+tup2\n",
    "tup"
   ]
  },
  {
   "cell_type": "code",
   "execution_count": 63,
   "id": "ccdcf4c4",
   "metadata": {
    "scrolled": true
   },
   "outputs": [
    {
     "data": {
      "text/plain": [
       "8"
      ]
     },
     "execution_count": 63,
     "metadata": {},
     "output_type": "execute_result"
    }
   ],
   "source": [
    "len(tup)"
   ]
  },
  {
   "cell_type": "code",
   "execution_count": 64,
   "id": "f869cc40",
   "metadata": {},
   "outputs": [
    {
     "name": "stdout",
     "output_type": "stream",
     "text": [
      "('I am', 'Tuple', 55, 78.8, False, 7000, 'I am', 'Tuple', 55, 78.8, False, 7000)\n"
     ]
    }
   ],
   "source": [
    "print(tup1*2)"
   ]
  },
  {
   "cell_type": "code",
   "execution_count": 65,
   "id": "90c102a8",
   "metadata": {},
   "outputs": [
    {
     "data": {
      "text/plain": [
       "('Tuple', 55, 78.8, False)"
      ]
     },
     "execution_count": 65,
     "metadata": {},
     "output_type": "execute_result"
    }
   ],
   "source": [
    "tup1[1:5]"
   ]
  },
  {
   "cell_type": "code",
   "execution_count": 66,
   "id": "a1ce629d",
   "metadata": {},
   "outputs": [
    {
     "ename": "TypeError",
     "evalue": "'tuple' object doesn't support item deletion",
     "output_type": "error",
     "traceback": [
      "\u001b[1;31m---------------------------------------------------------------------------\u001b[0m",
      "\u001b[1;31mTypeError\u001b[0m                                 Traceback (most recent call last)",
      "Input \u001b[1;32mIn [66]\u001b[0m, in \u001b[0;36m<cell line: 1>\u001b[1;34m()\u001b[0m\n\u001b[1;32m----> 1\u001b[0m \u001b[38;5;28;01mdel\u001b[39;00m tup1[\u001b[38;5;241m2\u001b[39m]\n",
      "\u001b[1;31mTypeError\u001b[0m: 'tuple' object doesn't support item deletion"
     ]
    }
   ],
   "source": [
    "del tup1[2]"
   ]
  },
  {
   "cell_type": "markdown",
   "id": "20506d6e",
   "metadata": {},
   "source": [
    "# Dictionary - Data Type"
   ]
  },
  {
   "cell_type": "code",
   "execution_count": 67,
   "id": "5e8ea43d",
   "metadata": {},
   "outputs": [
    {
     "data": {
      "text/plain": [
       "{'Fruit': 'Apple', 'Animal': 'Cat', 'Festival': 'Navratri', 'Rank': 1}"
      ]
     },
     "execution_count": 67,
     "metadata": {},
     "output_type": "execute_result"
    }
   ],
   "source": [
    "# dict = {key:value, key1:v2}\n",
    "\n",
    "dict1 = {'Fruit':'Apple', 'Animal':'Cat', 'Festival':'Navratri', 'Rank': 1}\n",
    "dict1"
   ]
  },
  {
   "cell_type": "code",
   "execution_count": 68,
   "id": "fdd6ec68",
   "metadata": {},
   "outputs": [
    {
     "data": {
      "text/plain": [
       "{1: 'Apple', 2: 'Cat', 3: 'Navratri'}"
      ]
     },
     "execution_count": 68,
     "metadata": {},
     "output_type": "execute_result"
    }
   ],
   "source": [
    "dict2 = {1:'Apple', 2:'Cat', 3:'Navratri'}\n",
    "dict2"
   ]
  },
  {
   "cell_type": "code",
   "execution_count": 69,
   "id": "54498a4e",
   "metadata": {},
   "outputs": [
    {
     "data": {
      "text/plain": [
       "{1: 'value1', 2: 'value2', 3: 'value3'}"
      ]
     },
     "execution_count": 69,
     "metadata": {},
     "output_type": "execute_result"
    }
   ],
   "source": [
    "dict3 = {}\n",
    "\n",
    "dict3[1] = \"value1\"\n",
    "dict3[2] = \"value2\"\n",
    "dict3[3] = \"value3\"\n",
    "\n",
    "dict3"
   ]
  },
  {
   "cell_type": "code",
   "execution_count": 70,
   "id": "dc0894e2",
   "metadata": {},
   "outputs": [
    {
     "data": {
      "text/plain": [
       "dict_keys(['Fruit', 'Animal', 'Festival', 'Rank'])"
      ]
     },
     "execution_count": 70,
     "metadata": {},
     "output_type": "execute_result"
    }
   ],
   "source": [
    "dict1.keys()"
   ]
  },
  {
   "cell_type": "code",
   "execution_count": 71,
   "id": "3fef9a51",
   "metadata": {},
   "outputs": [
    {
     "data": {
      "text/plain": [
       "dict_values(['Apple', 'Cat', 'Navratri', 1])"
      ]
     },
     "execution_count": 71,
     "metadata": {},
     "output_type": "execute_result"
    }
   ],
   "source": [
    "dict1.values()"
   ]
  },
  {
   "cell_type": "code",
   "execution_count": 72,
   "id": "7f1ff2c0",
   "metadata": {},
   "outputs": [
    {
     "data": {
      "text/plain": [
       "'AppleApple'"
      ]
     },
     "execution_count": 72,
     "metadata": {},
     "output_type": "execute_result"
    }
   ],
   "source": [
    "dict2[1]*2"
   ]
  },
  {
   "cell_type": "code",
   "execution_count": 73,
   "id": "4de5047f",
   "metadata": {},
   "outputs": [
    {
     "data": {
      "text/plain": [
       "3"
      ]
     },
     "execution_count": 73,
     "metadata": {},
     "output_type": "execute_result"
    }
   ],
   "source": [
    "len(dict2)"
   ]
  },
  {
   "cell_type": "code",
   "execution_count": 74,
   "id": "c0eedeae",
   "metadata": {},
   "outputs": [
    {
     "ename": "TypeError",
     "evalue": "unsupported operand type(s) for +: 'dict' and 'dict'",
     "output_type": "error",
     "traceback": [
      "\u001b[1;31m---------------------------------------------------------------------------\u001b[0m",
      "\u001b[1;31mTypeError\u001b[0m                                 Traceback (most recent call last)",
      "Input \u001b[1;32mIn [74]\u001b[0m, in \u001b[0;36m<cell line: 1>\u001b[1;34m()\u001b[0m\n\u001b[1;32m----> 1\u001b[0m \u001b[38;5;28mlen\u001b[39m(\u001b[43mdict1\u001b[49m\u001b[38;5;241;43m+\u001b[39;49m\u001b[43mdict2\u001b[49m)\n",
      "\u001b[1;31mTypeError\u001b[0m: unsupported operand type(s) for +: 'dict' and 'dict'"
     ]
    }
   ],
   "source": [
    "len(dict1+dict2)"
   ]
  },
  {
   "cell_type": "code",
   "execution_count": 75,
   "id": "704a1054",
   "metadata": {},
   "outputs": [
    {
     "data": {
      "text/plain": [
       "7"
      ]
     },
     "execution_count": 75,
     "metadata": {},
     "output_type": "execute_result"
    }
   ],
   "source": [
    "len(dict1)+len(dict2)"
   ]
  },
  {
   "cell_type": "code",
   "execution_count": 76,
   "id": "fe3e95ba",
   "metadata": {},
   "outputs": [
    {
     "data": {
      "text/plain": [
       "{'Fruit': 'Mango', 'Animal': 'Cat', 'Festival': 'Navratri', 'Rank': 1}"
      ]
     },
     "execution_count": 76,
     "metadata": {},
     "output_type": "execute_result"
    }
   ],
   "source": [
    "dict1[\"Fruit\"] = \"Mango\"\n",
    "\n",
    "dict1"
   ]
  },
  {
   "cell_type": "code",
   "execution_count": 77,
   "id": "6435434f",
   "metadata": {},
   "outputs": [
    {
     "data": {
      "text/plain": [
       "{'comp': ['compA', 'compB', 'compC', 'compD'],\n",
       " 'emp': ['emp1', 'emp2', 'emp3', 'emp4']}"
      ]
     },
     "execution_count": 77,
     "metadata": {},
     "output_type": "execute_result"
    }
   ],
   "source": [
    "dict4 = {'comp':['compA', 'compB', 'compC', 'compD'], 'emp':['emp1', 'emp2', 'emp3', 'emp4']}\n",
    "\n",
    "dict4"
   ]
  },
  {
   "cell_type": "code",
   "execution_count": 78,
   "id": "27341cf2",
   "metadata": {},
   "outputs": [
    {
     "data": {
      "text/plain": [
       "'compB'"
      ]
     },
     "execution_count": 78,
     "metadata": {},
     "output_type": "execute_result"
    }
   ],
   "source": [
    "dict4['comp'][1]"
   ]
  },
  {
   "cell_type": "markdown",
   "id": "ca39222d",
   "metadata": {},
   "source": [
    "# Loops in Python"
   ]
  },
  {
   "cell_type": "code",
   "execution_count": 79,
   "id": "2f3eed79",
   "metadata": {},
   "outputs": [
    {
     "name": "stdout",
     "output_type": "stream",
     "text": [
      "I love India\n",
      "Count is :  0\n",
      "I love India\n",
      "Count is :  1\n",
      "I love India\n",
      "Count is :  2\n",
      "I love India\n",
      "Count is :  3\n",
      "I love India\n",
      "Count is :  4\n",
      "I love India\n",
      "Count is :  5\n",
      "Loop Terminate\n"
     ]
    }
   ],
   "source": [
    "count=0\n",
    "\n",
    "while (count <=5):\n",
    "    print(\"I love India\")\n",
    "    print(\"Count is : \",count)\n",
    "    count=count+1\n",
    "else:\n",
    "    print(\"Loop Terminate\")\n",
    "    "
   ]
  },
  {
   "cell_type": "code",
   "execution_count": 80,
   "id": "b4b71038",
   "metadata": {},
   "outputs": [
    {
     "name": "stdout",
     "output_type": "stream",
     "text": [
      "0\n",
      "1\n",
      "2\n",
      "3\n",
      "Terminate\n"
     ]
    }
   ],
   "source": [
    "# For loop\n",
    "\n",
    "# For interation_var in seq:\n",
    "#         statement\n",
    "\n",
    "n=4\n",
    "\n",
    "for i in range(0,4):\n",
    "    print(i)\n",
    "\n",
    "else:\n",
    "    print(\"Terminate\")"
   ]
  },
  {
   "cell_type": "code",
   "execution_count": 81,
   "id": "2a5d2fd6",
   "metadata": {},
   "outputs": [
    {
     "name": "stdout",
     "output_type": "stream",
     "text": [
      "0 is not greter than 10\n"
     ]
    }
   ],
   "source": [
    "i=0\n",
    "\n",
    "if(i>10):\n",
    "    print(\"0 less than 10\")\n",
    "else:\n",
    "    print(\"0 is not greter than 10\")"
   ]
  },
  {
   "cell_type": "markdown",
   "id": "6826aa9c",
   "metadata": {},
   "source": [
    "# Python Calculator"
   ]
  },
  {
   "cell_type": "code",
   "execution_count": 8,
   "id": "4f31d0e9",
   "metadata": {},
   "outputs": [
    {
     "name": "stdout",
     "output_type": "stream",
     "text": [
      "Select An Operation\n",
      "1. Addition\n",
      "2. Subtraction\n",
      "3. Multiplication\n",
      "4. Division\n",
      "Enter the choice 1/2/3/4 : 1\n",
      "Enter the first number = 12\n",
      "Enter the second number = 12\n",
      "12 + 12 = 24\n"
     ]
    }
   ],
   "source": [
    "# Define function for all the operation in calculator\n",
    "\n",
    "# Define methon for addition\n",
    "\n",
    "def add(x,y):\n",
    "    return x+y\n",
    "\n",
    "# Define methon for subtraction\n",
    "\n",
    "def sub(x,y):\n",
    "    return x-y\n",
    "\n",
    "# Define methon for multiplication\n",
    "\n",
    "def mul(x,y):\n",
    "    return x*y\n",
    "\n",
    "# Define methon for division\n",
    "\n",
    "def divi(x,y):\n",
    "    return x/y\n",
    "\n",
    "print(\"Select An Operation\")\n",
    "print(\"1. Addition\")\n",
    "print(\"2. Subtraction\")\n",
    "print(\"3. Multiplication\")\n",
    "print(\"4. Division\")\n",
    "\n",
    "choice = int(input(\"Enter the choice 1/2/3/4 : \"))\n",
    "if(choice>4):\n",
    "    print(\"Invalid Choice\")\n",
    "else:    \n",
    "    num1=int(input(\"Enter the first number = \"))\n",
    "    num2=int(input(\"Enter the second number = \"))\n",
    "\n",
    "    if choice == 1:\n",
    "        print(num1,'+',num2,'=',add(num1,num2))\n",
    "\n",
    "    if choice == 2:\n",
    "        print(num1,'-',num2,'=',sub(num1,num2))    \n",
    "\n",
    "    if choice == 3:\n",
    "        print(num1,'*',num2,'=',mul(num1,num2))\n",
    "\n",
    "    if choice == 4:\n",
    "        print(num1,'/',num2,'=',divi(num1,num2))  \n"
   ]
  },
  {
   "cell_type": "code",
   "execution_count": null,
   "id": "93bf4204",
   "metadata": {},
   "outputs": [],
   "source": []
  }
 ],
 "metadata": {
  "kernelspec": {
   "display_name": "Python 3 (ipykernel)",
   "language": "python",
   "name": "python3"
  },
  "language_info": {
   "codemirror_mode": {
    "name": "ipython",
    "version": 3
   },
   "file_extension": ".py",
   "mimetype": "text/x-python",
   "name": "python",
   "nbconvert_exporter": "python",
   "pygments_lexer": "ipython3",
   "version": "3.9.12"
  }
 },
 "nbformat": 4,
 "nbformat_minor": 5
}
